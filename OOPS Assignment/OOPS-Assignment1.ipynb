{
 "cells": [
  {
   "cell_type": "markdown",
   "id": "fd975d5b-8b32-4daf-8d7d-d9fda9684069",
   "metadata": {},
   "source": [
    "GYM MEMBERSHIP"
   ]
  },
  {
   "cell_type": "code",
   "execution_count": 3,
   "id": "488ebc76-a7d2-48fd-bba8-13f434e6496c",
   "metadata": {},
   "outputs": [
    {
     "name": "stdout",
     "output_type": "stream",
     "text": [
      "Name: Ron, Age: 25, Fee: 500\n",
      "Error: Member must be at least 13 years old.\n",
      "True\n"
     ]
    }
   ],
   "source": [
    "class GymMember:\n",
    "    # Class variable: joining fee is the same for everyone\n",
    "    joining_fee = 500\n",
    "\n",
    "    def __init__(self, name, age):\n",
    "        if age < 13:\n",
    "            raise ValueError(\"Members must be at least 13 years old.\")\n",
    "        self.name = name\n",
    "        self.age = age\n",
    "\n",
    "    def details(self):\n",
    "        return f\"Name: {self.name}, Age: {self.age}, Fee: {GymMember.joining_fee}\"\n",
    "\n",
    "\n",
    "# Test\n",
    "\n",
    "# Should work fine\n",
    "m1 = GymMember(\"Ron\", 25)\n",
    "print(m1.details())  # Expected: Name: Rohit, Age: 25, Fee: 500\n",
    "\n",
    "# Age limit with manual check\n",
    "age = 10\n",
    "if age >= 13:\n",
    "    m2 = GymMember(\"Anthony\", age)\n",
    "    print(m2.details())\n",
    "else:\n",
    "    print(\"Error: Member must be at least 13 years old.\")\n",
    "\n",
    "# Check if fee is same for all\n",
    "m3 = GymMember(\"Jennifer\", 30)\n",
    "print(m1.joining_fee == m3.joining_fee)  # Expected: True\n",
    "\n"
   ]
  },
  {
   "cell_type": "code",
   "execution_count": null,
   "id": "eadbc195-039b-4ffc-96a1-6f273a3edc7a",
   "metadata": {},
   "outputs": [],
   "source": []
  },
  {
   "cell_type": "markdown",
   "id": "598cb9af-7400-4e4c-8855-fc85037ef346",
   "metadata": {},
   "source": [
    "EMPLOYEE BONUS CALCULATOR"
   ]
  },
  {
   "cell_type": "code",
   "execution_count": 6,
   "id": "6915da13-e2b4-4e51-ad56-2707f6838e06",
   "metadata": {},
   "outputs": [
    {
     "name": "stdout",
     "output_type": "stream",
     "text": [
      "5000.0\n",
      "0.0\n",
      "Error: Salary must be positive for John\n",
      "Error: Score must be between 0 and 100 for Kiran\n"
     ]
    }
   ],
   "source": [
    "class Employee:\n",
    "    def __init__(self, name, salary, score):\n",
    "        self.name = name\n",
    "        self.salary = salary\n",
    "        self.score = score\n",
    "\n",
    "    def calculate_bonus(self):\n",
    "        if self.score > 80:\n",
    "            return self.salary * 0.10\n",
    "        else:\n",
    "            return 0.0\n",
    "\n",
    "\n",
    "# Test Conditions\n",
    "\n",
    "# Only create if inputs are valid\n",
    "def create_employee(name, salary, score):\n",
    "    if salary <= 0:\n",
    "        print(f\"Error: Salary must be positive for {name}\")\n",
    "        return None\n",
    "    if score < 0 or score > 100:\n",
    "        print(f\"Error: Score must be between 0 and 100 for {name}\")\n",
    "        return None\n",
    "    return Employee(name, salary, score)\n",
    "\n",
    "# Valid inputs\n",
    "e1 = create_employee(\"Neha\", 50000, 85)\n",
    "if e1:\n",
    "    print(e1.calculate_bonus())  # Expected: 5000.0\n",
    "\n",
    "e2 = create_employee(\"Amit\", 60000, 60)\n",
    "if e2:\n",
    "    print(e2.calculate_bonus())  # Expected: 0.0\n",
    "\n",
    "# Invalid inputs — these won’t create an object\n",
    "e3 = create_employee(\"John\", -40000, 75)   # Should show error\n",
    "e4 = create_employee(\"Kiran\", 40000, 120)  # Should show error"
   ]
  },
  {
   "cell_type": "markdown",
   "id": "0e8b0727-0f35-494b-aba9-b9e28aee6502",
   "metadata": {},
   "source": []
  },
  {
   "cell_type": "markdown",
   "id": "e949bafd-bee0-4385-a13f-66581affc51a",
   "metadata": {},
   "source": [
    "BOOK LENDING TRACKER"
   ]
  },
  {
   "cell_type": "code",
   "execution_count": 4,
   "id": "80884ba1-706b-42a4-bf99-3e3c50c1901d",
   "metadata": {
    "scrolled": true
   },
   "outputs": [
    {
     "name": "stdout",
     "output_type": "stream",
     "text": [
      "Title: Wings of Fire, Author: A.P.J Abdul Kalam, Available: True\n",
      "Title: Wings of Fire, Author: A.P.J Abdul Kalam, Available: False\n",
      "Title: 1984, Author: George Orwell, Available: True\n"
     ]
    }
   ],
   "source": [
    "class Book:\n",
    "    def __init__(self, title, author):\n",
    "        self.title = title\n",
    "        self.author = author\n",
    "        self.available = True  # Default status\n",
    "\n",
    "    def issue_book(self):\n",
    "        self.available = False  # Change status when issued\n",
    "\n",
    "    def info(self):\n",
    "        return f\"Title: {self.title}, Author: {self.author}, Available: {self.available}\"\n",
    "\n",
    "# Test conditions\n",
    "\n",
    "b1 = Book(\"Wings of Fire\", \"A.P.J Abdul Kalam\")\n",
    "print(b1.info())  # Expected to include \"Available: True\"\n",
    "\n",
    "b1.issue_book()\n",
    "print(b1.info())  # Expected to include \"Available: False\"\n",
    "\n",
    "# Create another book\n",
    "b2 = Book(\"1984\", \"George Orwell\")\n",
    "print(b2.info())  # Should still be available"
   ]
  },
  {
   "cell_type": "markdown",
   "id": "bcf22877-899b-4471-9bef-336336219e24",
   "metadata": {},
   "source": []
  },
  {
   "cell_type": "code",
   "execution_count": null,
   "id": "47d266c4-78f2-4253-ae3a-060648a7027a",
   "metadata": {},
   "outputs": [],
   "source": []
  }
 ],
 "metadata": {
  "kernelspec": {
   "display_name": "Python [conda env:base] *",
   "language": "python",
   "name": "conda-base-py"
  },
  "language_info": {
   "codemirror_mode": {
    "name": "ipython",
    "version": 3
   },
   "file_extension": ".py",
   "mimetype": "text/x-python",
   "name": "python",
   "nbconvert_exporter": "python",
   "pygments_lexer": "ipython3",
   "version": "3.12.7"
  }
 },
 "nbformat": 4,
 "nbformat_minor": 5
}
